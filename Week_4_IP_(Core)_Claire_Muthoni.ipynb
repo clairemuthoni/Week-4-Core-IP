{
  "nbformat": 4,
  "nbformat_minor": 0,
  "metadata": {
    "colab": {
      "name": "Week 4 IP (Core) - Claire Muthoni ",
      "provenance": []
    },
    "kernelspec": {
      "name": "python3",
      "display_name": "Python 3"
    }
  },
  "cells": [
    {
      "cell_type": "markdown",
      "metadata": {
        "id": "n6frsPpFvY-D"
      },
      "source": [
        "#   Exploratory Data Analysis "
      ]
    },
    {
      "cell_type": "markdown",
      "metadata": {
        "id": "mYbCdOKXvc3D"
      },
      "source": [
        "##   1. Defining the question "
      ]
    },
    {
      "cell_type": "markdown",
      "metadata": {
        "id": "C0l8I7Opvr2E"
      },
      "source": [
        "### a)Specifying the question "
      ]
    },
    {
      "cell_type": "markdown",
      "metadata": {
        "id": "EUOykiK0wBba"
      },
      "source": [
        "In this project I would like to know whether the bluecars are decreaing in usage"
      ]
    },
    {
      "cell_type": "markdown",
      "metadata": {
        "id": "rYHbulSxwD3J"
      },
      "source": [
        "### b) Defining the metric of success"
      ]
    },
    {
      "cell_type": "markdown",
      "metadata": {
        "id": "D4Omjq6cwH8g"
      },
      "source": [
        "We consider it as a success when we reject the null hypothesis."
      ]
    },
    {
      "cell_type": "markdown",
      "metadata": {
        "id": "xWgNwIDswIzh"
      },
      "source": [
        "### c) Understanding the context\r\n"
      ]
    },
    {
      "cell_type": "markdown",
      "metadata": {
        "id": "9RAG3DjpwVSY"
      },
      "source": [
        "Autolib' was an electric car sharing service which was inaugurated in Paris, France, in December 2011. It closed on 31 July 2018. It was operated by the Bolloré industrial group, and complemented the city's bike sharing system, Velib', which was set up in 2007."
      ]
    },
    {
      "cell_type": "markdown",
      "metadata": {
        "id": "hjq8XD4QwV3S"
      },
      "source": [
        "### d) Recording the experimental design "
      ]
    },
    {
      "cell_type": "markdown",
      "metadata": {
        "id": "48dfQdFNwdDJ"
      },
      "source": [
        "For this experiment we will be using the Exploratory Data Analysis method"
      ]
    },
    {
      "cell_type": "markdown",
      "metadata": {
        "id": "xKUe7u1Pwd8L"
      },
      "source": [
        "### e) Data Relevance"
      ]
    },
    {
      "cell_type": "markdown",
      "metadata": {
        "id": "Uq5ps_fNwiJZ"
      },
      "source": [
        "The data is very relevant"
      ]
    },
    {
      "cell_type": "markdown",
      "metadata": {
        "id": "YQX6krxXvsks"
      },
      "source": [
        "## 2. Reading the data "
      ]
    },
    {
      "cell_type": "code",
      "metadata": {
        "id": "YDj1bWfEysTE"
      },
      "source": [
        "import pandas as pd \r\n",
        "import numpy as np \r\n",
        "import matplotlib.pyplot as plt\r\n",
        "import seaborn as sns "
      ],
      "execution_count": 202,
      "outputs": []
    },
    {
      "cell_type": "code",
      "metadata": {
        "id": "27qxkAdAxNjn"
      },
      "source": [
        "df= pd.read_csv('autolib_daily_events_postal_code.csv')"
      ],
      "execution_count": 203,
      "outputs": []
    },
    {
      "cell_type": "code",
      "metadata": {
        "id": "GY9voRR8y8It"
      },
      "source": [
        "df1 = pd.read_excel('columns_explanation.xlsx')"
      ],
      "execution_count": 204,
      "outputs": []
    },
    {
      "cell_type": "markdown",
      "metadata": {
        "id": "a5F2Q94BxOBr"
      },
      "source": [
        "## 3. Checking the data"
      ]
    },
    {
      "cell_type": "code",
      "metadata": {
        "colab": {
          "base_uri": "https://localhost:8080/",
          "height": 237
        },
        "id": "pzuYzKdqxUH0",
        "outputId": "e844931c-560f-4171-a919-b489698dbcc3"
      },
      "source": [
        "# Previewing the top of our dataset\r\n",
        "df.head()"
      ],
      "execution_count": 205,
      "outputs": [
        {
          "output_type": "execute_result",
          "data": {
            "text/html": [
              "<div>\n",
              "<style scoped>\n",
              "    .dataframe tbody tr th:only-of-type {\n",
              "        vertical-align: middle;\n",
              "    }\n",
              "\n",
              "    .dataframe tbody tr th {\n",
              "        vertical-align: top;\n",
              "    }\n",
              "\n",
              "    .dataframe thead th {\n",
              "        text-align: right;\n",
              "    }\n",
              "</style>\n",
              "<table border=\"1\" class=\"dataframe\">\n",
              "  <thead>\n",
              "    <tr style=\"text-align: right;\">\n",
              "      <th></th>\n",
              "      <th>Postal code</th>\n",
              "      <th>date</th>\n",
              "      <th>n_daily_data_points</th>\n",
              "      <th>dayOfWeek</th>\n",
              "      <th>day_type</th>\n",
              "      <th>BlueCars_taken_sum</th>\n",
              "      <th>BlueCars_returned_sum</th>\n",
              "      <th>Utilib_taken_sum</th>\n",
              "      <th>Utilib_returned_sum</th>\n",
              "      <th>Utilib_14_taken_sum</th>\n",
              "      <th>Utilib_14_returned_sum</th>\n",
              "      <th>Slots_freed_sum</th>\n",
              "      <th>Slots_taken_sum</th>\n",
              "    </tr>\n",
              "  </thead>\n",
              "  <tbody>\n",
              "    <tr>\n",
              "      <th>0</th>\n",
              "      <td>75001</td>\n",
              "      <td>1/1/2018</td>\n",
              "      <td>1440</td>\n",
              "      <td>0</td>\n",
              "      <td>weekday</td>\n",
              "      <td>110</td>\n",
              "      <td>103</td>\n",
              "      <td>3</td>\n",
              "      <td>2</td>\n",
              "      <td>10</td>\n",
              "      <td>9</td>\n",
              "      <td>22</td>\n",
              "      <td>20</td>\n",
              "    </tr>\n",
              "    <tr>\n",
              "      <th>1</th>\n",
              "      <td>75001</td>\n",
              "      <td>1/2/2018</td>\n",
              "      <td>1438</td>\n",
              "      <td>1</td>\n",
              "      <td>weekday</td>\n",
              "      <td>98</td>\n",
              "      <td>94</td>\n",
              "      <td>1</td>\n",
              "      <td>1</td>\n",
              "      <td>8</td>\n",
              "      <td>8</td>\n",
              "      <td>23</td>\n",
              "      <td>22</td>\n",
              "    </tr>\n",
              "    <tr>\n",
              "      <th>2</th>\n",
              "      <td>75001</td>\n",
              "      <td>1/3/2018</td>\n",
              "      <td>1439</td>\n",
              "      <td>2</td>\n",
              "      <td>weekday</td>\n",
              "      <td>138</td>\n",
              "      <td>139</td>\n",
              "      <td>0</td>\n",
              "      <td>0</td>\n",
              "      <td>2</td>\n",
              "      <td>2</td>\n",
              "      <td>27</td>\n",
              "      <td>27</td>\n",
              "    </tr>\n",
              "    <tr>\n",
              "      <th>3</th>\n",
              "      <td>75001</td>\n",
              "      <td>1/4/2018</td>\n",
              "      <td>1320</td>\n",
              "      <td>3</td>\n",
              "      <td>weekday</td>\n",
              "      <td>104</td>\n",
              "      <td>104</td>\n",
              "      <td>2</td>\n",
              "      <td>2</td>\n",
              "      <td>9</td>\n",
              "      <td>8</td>\n",
              "      <td>25</td>\n",
              "      <td>21</td>\n",
              "    </tr>\n",
              "    <tr>\n",
              "      <th>4</th>\n",
              "      <td>75001</td>\n",
              "      <td>1/5/2018</td>\n",
              "      <td>1440</td>\n",
              "      <td>4</td>\n",
              "      <td>weekday</td>\n",
              "      <td>114</td>\n",
              "      <td>117</td>\n",
              "      <td>3</td>\n",
              "      <td>3</td>\n",
              "      <td>6</td>\n",
              "      <td>6</td>\n",
              "      <td>18</td>\n",
              "      <td>20</td>\n",
              "    </tr>\n",
              "  </tbody>\n",
              "</table>\n",
              "</div>"
            ],
            "text/plain": [
              "   Postal code      date  ...  Slots_freed_sum  Slots_taken_sum\n",
              "0        75001  1/1/2018  ...               22               20\n",
              "1        75001  1/2/2018  ...               23               22\n",
              "2        75001  1/3/2018  ...               27               27\n",
              "3        75001  1/4/2018  ...               25               21\n",
              "4        75001  1/5/2018  ...               18               20\n",
              "\n",
              "[5 rows x 13 columns]"
            ]
          },
          "metadata": {
            "tags": []
          },
          "execution_count": 205
        }
      ]
    },
    {
      "cell_type": "code",
      "metadata": {
        "colab": {
          "base_uri": "https://localhost:8080/",
          "height": 200
        },
        "id": "TfDUw2nGzcWi",
        "outputId": "f0eb1388-4de6-478e-9a5f-2d5f3916d5eb"
      },
      "source": [
        "df1.head()"
      ],
      "execution_count": 206,
      "outputs": [
        {
          "output_type": "execute_result",
          "data": {
            "text/html": [
              "<div>\n",
              "<style scoped>\n",
              "    .dataframe tbody tr th:only-of-type {\n",
              "        vertical-align: middle;\n",
              "    }\n",
              "\n",
              "    .dataframe tbody tr th {\n",
              "        vertical-align: top;\n",
              "    }\n",
              "\n",
              "    .dataframe thead th {\n",
              "        text-align: right;\n",
              "    }\n",
              "</style>\n",
              "<table border=\"1\" class=\"dataframe\">\n",
              "  <thead>\n",
              "    <tr style=\"text-align: right;\">\n",
              "      <th></th>\n",
              "      <th>Column name</th>\n",
              "      <th>explanation</th>\n",
              "    </tr>\n",
              "  </thead>\n",
              "  <tbody>\n",
              "    <tr>\n",
              "      <th>0</th>\n",
              "      <td>Postal code</td>\n",
              "      <td>postal code of the area (in Paris)</td>\n",
              "    </tr>\n",
              "    <tr>\n",
              "      <th>1</th>\n",
              "      <td>date</td>\n",
              "      <td>date of the row aggregation</td>\n",
              "    </tr>\n",
              "    <tr>\n",
              "      <th>2</th>\n",
              "      <td>n_daily_data_points</td>\n",
              "      <td>number of daily data poinst that were availabl...</td>\n",
              "    </tr>\n",
              "    <tr>\n",
              "      <th>3</th>\n",
              "      <td>dayOfWeek</td>\n",
              "      <td>identifier of weekday (0: Monday -&gt; 6: Sunday)</td>\n",
              "    </tr>\n",
              "    <tr>\n",
              "      <th>4</th>\n",
              "      <td>day_type</td>\n",
              "      <td>weekday or weekend</td>\n",
              "    </tr>\n",
              "  </tbody>\n",
              "</table>\n",
              "</div>"
            ],
            "text/plain": [
              "           Column name                                        explanation\n",
              "0          Postal code                 postal code of the area (in Paris)\n",
              "1                 date                        date of the row aggregation\n",
              "2  n_daily_data_points  number of daily data poinst that were availabl...\n",
              "3            dayOfWeek     identifier of weekday (0: Monday -> 6: Sunday)\n",
              "4             day_type                                 weekday or weekend"
            ]
          },
          "metadata": {
            "tags": []
          },
          "execution_count": 206
        }
      ]
    },
    {
      "cell_type": "code",
      "metadata": {
        "colab": {
          "base_uri": "https://localhost:8080/"
        },
        "id": "QY_CTMI8xUOe",
        "outputId": "5a3077a0-3d35-4082-b108-a241f334ce37"
      },
      "source": [
        "#Determining the number of records in our dataset\r\n",
        "print(len(df))\r\n",
        "print(len(df1))"
      ],
      "execution_count": 207,
      "outputs": [
        {
          "output_type": "stream",
          "text": [
            "16085\n",
            "13\n"
          ],
          "name": "stdout"
        }
      ]
    },
    {
      "cell_type": "code",
      "metadata": {
        "colab": {
          "base_uri": "https://localhost:8080/"
        },
        "id": "VBDZb06BKgZ1",
        "outputId": "79b68906-7ed4-4f5b-c7b5-54a4d965bad6"
      },
      "source": [
        "print(len(df.columns))"
      ],
      "execution_count": 208,
      "outputs": [
        {
          "output_type": "stream",
          "text": [
            "13\n"
          ],
          "name": "stdout"
        }
      ]
    },
    {
      "cell_type": "code",
      "metadata": {
        "colab": {
          "base_uri": "https://localhost:8080/"
        },
        "id": "C6Vm-z9kxUXA",
        "outputId": "ac79de80-4618-4e7c-da9e-1d4f137c60b8"
      },
      "source": [
        "#Checking if each column has the appropriate data type\r\n",
        "df.info()"
      ],
      "execution_count": 209,
      "outputs": [
        {
          "output_type": "stream",
          "text": [
            "<class 'pandas.core.frame.DataFrame'>\n",
            "RangeIndex: 16085 entries, 0 to 16084\n",
            "Data columns (total 13 columns):\n",
            " #   Column                  Non-Null Count  Dtype \n",
            "---  ------                  --------------  ----- \n",
            " 0   Postal code             16085 non-null  int64 \n",
            " 1   date                    16085 non-null  object\n",
            " 2   n_daily_data_points     16085 non-null  int64 \n",
            " 3   dayOfWeek               16085 non-null  int64 \n",
            " 4   day_type                16085 non-null  object\n",
            " 5   BlueCars_taken_sum      16085 non-null  int64 \n",
            " 6   BlueCars_returned_sum   16085 non-null  int64 \n",
            " 7   Utilib_taken_sum        16085 non-null  int64 \n",
            " 8   Utilib_returned_sum     16085 non-null  int64 \n",
            " 9   Utilib_14_taken_sum     16085 non-null  int64 \n",
            " 10  Utilib_14_returned_sum  16085 non-null  int64 \n",
            " 11  Slots_freed_sum         16085 non-null  int64 \n",
            " 12  Slots_taken_sum         16085 non-null  int64 \n",
            "dtypes: int64(11), object(2)\n",
            "memory usage: 1.6+ MB\n"
          ],
          "name": "stdout"
        }
      ]
    },
    {
      "cell_type": "code",
      "metadata": {
        "colab": {
          "base_uri": "https://localhost:8080/"
        },
        "id": "5QkABQChxUfk",
        "outputId": "6973caa2-81e9-47d6-8c86-b8c81101eb93"
      },
      "source": [
        "df1.info()"
      ],
      "execution_count": 210,
      "outputs": [
        {
          "output_type": "stream",
          "text": [
            "<class 'pandas.core.frame.DataFrame'>\n",
            "RangeIndex: 13 entries, 0 to 12\n",
            "Data columns (total 2 columns):\n",
            " #   Column       Non-Null Count  Dtype \n",
            "---  ------       --------------  ----- \n",
            " 0   Column name  13 non-null     object\n",
            " 1   explanation  13 non-null     object\n",
            "dtypes: object(2)\n",
            "memory usage: 336.0+ bytes\n"
          ],
          "name": "stdout"
        }
      ]
    },
    {
      "cell_type": "code",
      "metadata": {
        "id": "zIhVCBZJTHbc"
      },
      "source": [
        "df['date'] = pd.to_datetime(df['date'])"
      ],
      "execution_count": 211,
      "outputs": []
    },
    {
      "cell_type": "markdown",
      "metadata": {
        "id": "kmnOswfQxVnf"
      },
      "source": [
        "## 4. Tidying the dataset "
      ]
    },
    {
      "cell_type": "code",
      "metadata": {
        "colab": {
          "base_uri": "https://localhost:8080/",
          "height": 353
        },
        "id": "VVga5qv9xz70",
        "outputId": "3a44c6dd-b8a8-4d1d-d2f8-0db2f9b04a6d"
      },
      "source": [
        "#Checking for outliers\r\n",
        "sns.boxplot(df['BlueCars_taken_sum'])"
      ],
      "execution_count": 213,
      "outputs": [
        {
          "output_type": "stream",
          "text": [
            "/usr/local/lib/python3.6/dist-packages/seaborn/_decorators.py:43: FutureWarning: Pass the following variable as a keyword arg: x. From version 0.12, the only valid positional argument will be `data`, and passing other arguments without an explicit keyword will result in an error or misinterpretation.\n",
            "  FutureWarning\n"
          ],
          "name": "stderr"
        },
        {
          "output_type": "execute_result",
          "data": {
            "text/plain": [
              "<matplotlib.axes._subplots.AxesSubplot at 0x7f8365a5c9e8>"
            ]
          },
          "metadata": {
            "tags": []
          },
          "execution_count": 213
        },
        {
          "output_type": "display_data",
          "data": {
            "image/png": "[encoded data removed]",
            "text/plain": [
              "<Figure size 432x288 with 1 Axes>"
            ]
          },
          "metadata": {
            "tags": [],
            "needs_background": "light"
          }
        }
      ]
    },
    {
      "cell_type": "code",
      "metadata": {
        "colab": {
          "base_uri": "https://localhost:8080/",
          "height": 353
        },
        "id": "lxy7TPQ73b_9",
        "outputId": "1ca7ec87-cab6-42c0-bf20-aa8a3f2da85d"
      },
      "source": [
        "sns.boxplot(df['BlueCars_returned_sum'])"
      ],
      "execution_count": 56,
      "outputs": [
        {
          "output_type": "stream",
          "text": [
            "/usr/local/lib/python3.6/dist-packages/seaborn/_decorators.py:43: FutureWarning: Pass the following variable as a keyword arg: x. From version 0.12, the only valid positional argument will be `data`, and passing other arguments without an explicit keyword will result in an error or misinterpretation.\n",
            "  FutureWarning\n"
          ],
          "name": "stderr"
        },
        {
          "output_type": "execute_result",
          "data": {
            "text/plain": [
              "<matplotlib.axes._subplots.AxesSubplot at 0x7f839cffb8d0>"
            ]
          },
          "metadata": {
            "tags": []
          },
          "execution_count": 56
        },
        {
          "output_type": "display_data",
          "data": {
            "image/png": "[encoded data removed]",
            "text/plain": [
              "<Figure size 432x288 with 1 Axes>"
            ]
          },
          "metadata": {
            "tags": [],
            "needs_background": "light"
          }
        }
      ]
    },
    {
      "cell_type": "code",
      "metadata": {
        "colab": {
          "base_uri": "https://localhost:8080/",
          "height": 353
        },
        "id": "q62ERHa5x3Sb",
        "outputId": "5a24396e-7740-40ab-c35f-a8fceeadd8f6"
      },
      "source": [
        "sns.boxplot(df['Utilib_taken_sum'])"
      ],
      "execution_count": 57,
      "outputs": [
        {
          "output_type": "stream",
          "text": [
            "/usr/local/lib/python3.6/dist-packages/seaborn/_decorators.py:43: FutureWarning: Pass the following variable as a keyword arg: x. From version 0.12, the only valid positional argument will be `data`, and passing other arguments without an explicit keyword will result in an error or misinterpretation.\n",
            "  FutureWarning\n"
          ],
          "name": "stderr"
        },
        {
          "output_type": "execute_result",
          "data": {
            "text/plain": [
              "<matplotlib.axes._subplots.AxesSubplot at 0x7f839cf6a518>"
            ]
          },
          "metadata": {
            "tags": []
          },
          "execution_count": 57
        },
        {
          "output_type": "display_data",
          "data": {
            "image/png": "[encoded data removed]",
            "text/plain": [
              "<Figure size 432x288 with 1 Axes>"
            ]
          },
          "metadata": {
            "tags": [],
            "needs_background": "light"
          }
        }
      ]
    },
    {
      "cell_type": "code",
      "metadata": {
        "colab": {
          "base_uri": "https://localhost:8080/",
          "height": 353
        },
        "id": "NZBFFnHtx3Yy",
        "outputId": "87b865b7-f435-4786-d8e6-68238e00d684"
      },
      "source": [
        "sns.boxplot(df['Utilib_returned_sum'])"
      ],
      "execution_count": 58,
      "outputs": [
        {
          "output_type": "stream",
          "text": [
            "/usr/local/lib/python3.6/dist-packages/seaborn/_decorators.py:43: FutureWarning: Pass the following variable as a keyword arg: x. From version 0.12, the only valid positional argument will be `data`, and passing other arguments without an explicit keyword will result in an error or misinterpretation.\n",
            "  FutureWarning\n"
          ],
          "name": "stderr"
        },
        {
          "output_type": "execute_result",
          "data": {
            "text/plain": [
              "<matplotlib.axes._subplots.AxesSubplot at 0x7f839cf47a58>"
            ]
          },
          "metadata": {
            "tags": []
          },
          "execution_count": 58
        },
        {
          "output_type": "display_data",
          "data": {
            "image/png": "[encoded data removed]",
            "text/plain": [
              "<Figure size 432x288 with 1 Axes>"
            ]
          },
          "metadata": {
            "tags": [],
            "needs_background": "light"
          }
        }
      ]
    },
    {
      "cell_type": "code",
      "metadata": {
        "colab": {
          "base_uri": "https://localhost:8080/",
          "height": 353
        },
        "id": "hfdxiC5Nx3if",
        "outputId": "3bc221a4-2e6f-456d-fbee-ca98f160346c"
      },
      "source": [
        "sns.boxplot(df['Utilib_14_taken_sum'])"
      ],
      "execution_count": 59,
      "outputs": [
        {
          "output_type": "stream",
          "text": [
            "/usr/local/lib/python3.6/dist-packages/seaborn/_decorators.py:43: FutureWarning: Pass the following variable as a keyword arg: x. From version 0.12, the only valid positional argument will be `data`, and passing other arguments without an explicit keyword will result in an error or misinterpretation.\n",
            "  FutureWarning\n"
          ],
          "name": "stderr"
        },
        {
          "output_type": "execute_result",
          "data": {
            "text/plain": [
              "<matplotlib.axes._subplots.AxesSubplot at 0x7f839ceab2b0>"
            ]
          },
          "metadata": {
            "tags": []
          },
          "execution_count": 59
        },
        {
          "output_type": "display_data",
          "data": {
            "image/png": "[encoded data removed]",
            "text/plain": [
              "<Figure size 432x288 with 1 Axes>"
            ]
          },
          "metadata": {
            "tags": [],
            "needs_background": "light"
          }
        }
      ]
    },
    {
      "cell_type": "code",
      "metadata": {
        "colab": {
          "base_uri": "https://localhost:8080/",
          "height": 353
        },
        "id": "sQh-OPh5x3qY",
        "outputId": "1793e39a-e76f-4323-9688-fc429a37e831"
      },
      "source": [
        "sns.boxplot(df['Utilib_14_returned_sum'])"
      ],
      "execution_count": 60,
      "outputs": [
        {
          "output_type": "stream",
          "text": [
            "/usr/local/lib/python3.6/dist-packages/seaborn/_decorators.py:43: FutureWarning: Pass the following variable as a keyword arg: x. From version 0.12, the only valid positional argument will be `data`, and passing other arguments without an explicit keyword will result in an error or misinterpretation.\n",
            "  FutureWarning\n"
          ],
          "name": "stderr"
        },
        {
          "output_type": "execute_result",
          "data": {
            "text/plain": [
              "<matplotlib.axes._subplots.AxesSubplot at 0x7f839ce90a58>"
            ]
          },
          "metadata": {
            "tags": []
          },
          "execution_count": 60
        },
        {
          "output_type": "display_data",
          "data": {
            "image/png": "[encoded data removed]",
            "text/plain": [
              "<Figure size 432x288 with 1 Axes>"
            ]
          },
          "metadata": {
            "tags": [],
            "needs_background": "light"
          }
        }
      ]
    },
    {
      "cell_type": "code",
      "metadata": {
        "colab": {
          "base_uri": "https://localhost:8080/",
          "height": 35
        },
        "id": "tcZYFfY641Xl",
        "outputId": "904ce479-5fd1-48c6-e39f-431a4c17efa1"
      },
      "source": [
        "#Checking for anomalies \r\n",
        "q1 = df['BlueCars_taken_sum'].quantile(.25)\r\n",
        "q3= df['BlueCars_taken_sum'].quantile(.75)\r\n",
        "iqr = q3 - q1\r\n",
        "#finding the end of the whiskers in the box and whisker\r\n",
        "l_bound = q1 - (1.5*iqr)\r\n",
        "u_bound = q3 + (1.5 * iqr)\r\n",
        "#Checking if there are any values above the whiskers in the data\r\n",
        "def over(x):\r\n",
        "  for x in df['BlueCars_taken_sum']: \r\n",
        "     if x > u_bound:\r\n",
        "       df['BlueCars_taken_sum'] = df.drop(x)\r\n",
        "       return 'Anomaly'\r\n",
        "     elif x < u_bound:\r\n",
        "       continue \r\n",
        "     else:\r\n",
        "       break \r\n",
        "over(df)"
      ],
      "execution_count": 61,
      "outputs": [
        {
          "output_type": "execute_result",
          "data": {
            "application/vnd.google.colaboratory.intrinsic+json": {
              "type": "string"
            },
            "text/plain": [
              "'Anomaly'"
            ]
          },
          "metadata": {
            "tags": []
          },
          "execution_count": 61
        }
      ]
    },
    {
      "cell_type": "code",
      "metadata": {
        "id": "NRC4WScN-EdL"
      },
      "source": [
        "def under(x):\r\n",
        "  for x in df['BlueCars_taken_sum']:\r\n",
        "    if x < l_bound:\r\n",
        "      df['BlueCars_taken_sum']= df.drop(x)\r\n",
        "      return 'Anomaly'\r\n",
        "    elif x > l_bound:\r\n",
        "        continue \r\n",
        "    else:\r\n",
        "        break\r\n",
        "under(df)"
      ],
      "execution_count": 73,
      "outputs": []
    },
    {
      "cell_type": "code",
      "metadata": {
        "colab": {
          "base_uri": "https://localhost:8080/",
          "height": 35
        },
        "id": "hG-IS7mB6Y_0",
        "outputId": "29b22b4f-e6c9-43cf-aa26-174080d24022"
      },
      "source": [
        "q1 = df['BlueCars_returned_sum'].quantile(.25)\r\n",
        "q3= df['BlueCars_returned_sum'].quantile(.75)\r\n",
        "iqr = q3 - q1\r\n",
        "#finding the end of the whiskers in the box and whisker\r\n",
        "l_bound = q1 - (1.5*iqr)\r\n",
        "u_bound = q3 + (1.5 * iqr)\r\n",
        "#Checking if there are any values above the whiskers in the data\r\n",
        "def over(x):\r\n",
        "  for x in df['BlueCars_returned_sum']: \r\n",
        "     if x > u_bound:\r\n",
        "       df['BlueCars_returned_sum'] = df.drop(x)\r\n",
        "       return 'Anomaly'\r\n",
        "     elif x < u_bound:\r\n",
        "       continue \r\n",
        "     else:\r\n",
        "       break \r\n",
        "over(df)"
      ],
      "execution_count": 62,
      "outputs": [
        {
          "output_type": "execute_result",
          "data": {
            "application/vnd.google.colaboratory.intrinsic+json": {
              "type": "string"
            },
            "text/plain": [
              "'Anomaly'"
            ]
          },
          "metadata": {
            "tags": []
          },
          "execution_count": 62
        }
      ]
    },
    {
      "cell_type": "code",
      "metadata": {
        "colab": {
          "base_uri": "https://localhost:8080/",
          "height": 35
        },
        "id": "wOKK3Tct7O1a",
        "outputId": "2e0922ac-ba23-4c6c-e1be-ecd03f00ac73"
      },
      "source": [
        "q1 = df['Utilib_taken_sum'].quantile(.25)\r\n",
        "q3= df['Utilib_taken_sum'].quantile(.75)\r\n",
        "iqr = q3 - q1\r\n",
        "#finding the end of the whiskers in the box and whisker\r\n",
        "l_bound = q1 - (1.5*iqr)\r\n",
        "u_bound = q3 + (1.5 * iqr)\r\n",
        "#Checking if there are any values above the whiskers in the data\r\n",
        "def over(x):\r\n",
        "  for x in df['Utilib_taken_sum']: \r\n",
        "     if x > u_bound:\r\n",
        "       df['Utilib_taken_sum'] = df.drop(x)\r\n",
        "       return 'Anomaly'\r\n",
        "     elif x < u_bound:\r\n",
        "       continue \r\n",
        "     else:\r\n",
        "       break \r\n",
        "over(df)"
      ],
      "execution_count": 63,
      "outputs": [
        {
          "output_type": "execute_result",
          "data": {
            "application/vnd.google.colaboratory.intrinsic+json": {
              "type": "string"
            },
            "text/plain": [
              "'Anomaly'"
            ]
          },
          "metadata": {
            "tags": []
          },
          "execution_count": 63
        }
      ]
    },
    {
      "cell_type": "code",
      "metadata": {
        "colab": {
          "base_uri": "https://localhost:8080/",
          "height": 35
        },
        "id": "cW4pVd3J7P1A",
        "outputId": "8aac7c61-a433-494f-be3e-f77b707235b4"
      },
      "source": [
        "q1 = df['Utilib_returned_sum'].quantile(.25)\r\n",
        "q3= df['Utilib_returned_sum'].quantile(.75)\r\n",
        "iqr = q3 - q1\r\n",
        "#finding the end of the whiskers in the box and whisker\r\n",
        "l_bound = q1 - (1.5*iqr)\r\n",
        "u_bound = q3 + (1.5 * iqr)\r\n",
        "#Checking if there are any values above the whiskers in the data\r\n",
        "def over(x):\r\n",
        "  for x in df['Utilib_returned_sum']: \r\n",
        "     if x > u_bound:\r\n",
        "       df['Utilib_returned_sum'] = df.drop(x)\r\n",
        "       return 'Anomaly'\r\n",
        "     elif x < u_bound:\r\n",
        "       continue \r\n",
        "     else:\r\n",
        "       break \r\n",
        "over(df)"
      ],
      "execution_count": 64,
      "outputs": [
        {
          "output_type": "execute_result",
          "data": {
            "application/vnd.google.colaboratory.intrinsic+json": {
              "type": "string"
            },
            "text/plain": [
              "'Anomaly'"
            ]
          },
          "metadata": {
            "tags": []
          },
          "execution_count": 64
        }
      ]
    },
    {
      "cell_type": "code",
      "metadata": {
        "colab": {
          "base_uri": "https://localhost:8080/",
          "height": 35
        },
        "id": "zE4GqbFA7QtV",
        "outputId": "86826c21-e7e4-41a0-a62d-571e2ad70451"
      },
      "source": [
        "q1 = df['Utilib_14_taken_sum'].quantile(.25)\r\n",
        "q3= df['Utilib_14_taken_sum'].quantile(.75)\r\n",
        "iqr = q3 - q1\r\n",
        "#finding the end of the whiskers in the box and whisker\r\n",
        "l_bound = q1 - (1.5*iqr)\r\n",
        "u_bound = q3 + (1.5 * iqr)\r\n",
        "#Checking if there are any values above the whiskers in the data\r\n",
        "def over(x):\r\n",
        "  for x in df['Utilib_14_taken_sum']: \r\n",
        "     if x > u_bound:\r\n",
        "       df['Utilib_14_taken_sum'] = df.drop(x)\r\n",
        "       return 'Anomaly'\r\n",
        "     elif x < u_bound:\r\n",
        "       continue \r\n",
        "     else:\r\n",
        "       break \r\n",
        "over(df)"
      ],
      "execution_count": 65,
      "outputs": [
        {
          "output_type": "execute_result",
          "data": {
            "application/vnd.google.colaboratory.intrinsic+json": {
              "type": "string"
            },
            "text/plain": [
              "'Anomaly'"
            ]
          },
          "metadata": {
            "tags": []
          },
          "execution_count": 65
        }
      ]
    },
    {
      "cell_type": "code",
      "metadata": {
        "colab": {
          "base_uri": "https://localhost:8080/",
          "height": 35
        },
        "id": "JNpR97Xp7RgR",
        "outputId": "b7e11030-fca9-48ef-8f18-b05e315a01eb"
      },
      "source": [
        "q1 = df['Utilib_14_returned_sum'].quantile(.25)\r\n",
        "q3= df['Utilib_14_returned_sum'].quantile(.75)\r\n",
        "iqr = q3 - q1\r\n",
        "#finding the end of the whiskers in the box and whisker\r\n",
        "l_bound = q1 - (1.5*iqr)\r\n",
        "u_bound = q3 + (1.5 * iqr)\r\n",
        "#Checking if there are any values above the whiskers in the data\r\n",
        "def over(x):\r\n",
        "  for x in df['Utilib_14_returned_sum']: \r\n",
        "     if x > u_bound:\r\n",
        "       df['Utilib_14_returned_sum'] = df.drop(x)\r\n",
        "       return 'Anomaly'\r\n",
        "     elif x < u_bound:\r\n",
        "       continue \r\n",
        "     else:\r\n",
        "       break \r\n",
        "over(df)"
      ],
      "execution_count": 66,
      "outputs": [
        {
          "output_type": "execute_result",
          "data": {
            "application/vnd.google.colaboratory.intrinsic+json": {
              "type": "string"
            },
            "text/plain": [
              "'Anomaly'"
            ]
          },
          "metadata": {
            "tags": []
          },
          "execution_count": 66
        }
      ]
    },
    {
      "cell_type": "code",
      "metadata": {
        "colab": {
          "base_uri": "https://localhost:8080/"
        },
        "id": "L0xxAyJ-odSy",
        "outputId": "231c92fb-44ab-4d20-9d3d-ea83da1ddd2f"
      },
      "source": [
        "#Checking for missing data \r\n",
        "df.isnull().sum()"
      ],
      "execution_count": 187,
      "outputs": [
        {
          "output_type": "execute_result",
          "data": {
            "text/plain": [
              "Postal code               0\n",
              "date                      0\n",
              "n_daily_data_points       0\n",
              "dayOfWeek                 0\n",
              "day_type                  0\n",
              "BlueCars_taken_sum        0\n",
              "BlueCars_returned_sum     0\n",
              "Utilib_taken_sum          0\n",
              "Utilib_returned_sum       0\n",
              "Utilib_14_taken_sum       0\n",
              "Utilib_14_returned_sum    0\n",
              "Slots_freed_sum           0\n",
              "Slots_taken_sum           0\n",
              "Postal codez_score        0\n",
              "dtype: int64"
            ]
          },
          "metadata": {
            "tags": []
          },
          "execution_count": 187
        }
      ]
    },
    {
      "cell_type": "markdown",
      "metadata": {
        "id": "1TG1i-A6x4IY"
      },
      "source": [
        "## 5. Exploratory Analysis"
      ]
    },
    {
      "cell_type": "markdown",
      "metadata": {
        "id": "EThaPhnryBPM"
      },
      "source": [
        "### Univariate analysis "
      ]
    },
    {
      "cell_type": "code",
      "metadata": {
        "id": "5SylVacb96HK"
      },
      "source": [
        "#Plotting the univariate analysis "
      ],
      "execution_count": null,
      "outputs": []
    },
    {
      "cell_type": "code",
      "metadata": {
        "colab": {
          "base_uri": "https://localhost:8080/",
          "height": 283
        },
        "id": "aqRW287ZyDd5",
        "outputId": "8f5a8b83-e17d-4f49-ffdf-90323a4922e6"
      },
      "source": [
        "df['BlueCars_taken_sum'].hist()"
      ],
      "execution_count": 92,
      "outputs": [
        {
          "output_type": "execute_result",
          "data": {
            "text/plain": [
              "<matplotlib.axes._subplots.AxesSubplot at 0x7f8392c37d68>"
            ]
          },
          "metadata": {
            "tags": []
          },
          "execution_count": 92
        },
        {
          "output_type": "display_data",
          "data": {
            "image/png": "[encoded data removed]",
            "text/plain": [
              "<Figure size 432x288 with 1 Axes>"
            ]
          },
          "metadata": {
            "tags": [],
            "needs_background": "light"
          }
        }
      ]
    },
    {
      "cell_type": "code",
      "metadata": {
        "colab": {
          "base_uri": "https://localhost:8080/",
          "height": 353
        },
        "id": "5phwr7BPyDhH",
        "outputId": "a37a0ce5-6199-4400-a641-d822f8036004"
      },
      "source": [
        "sns.distplot(df['BlueCars_taken_sum'])"
      ],
      "execution_count": 93,
      "outputs": [
        {
          "output_type": "stream",
          "text": [
            "/usr/local/lib/python3.6/dist-packages/seaborn/distributions.py:2557: FutureWarning: `distplot` is a deprecated function and will be removed in a future version. Please adapt your code to use either `displot` (a figure-level function with similar flexibility) or `histplot` (an axes-level function for histograms).\n",
            "  warnings.warn(msg, FutureWarning)\n"
          ],
          "name": "stderr"
        },
        {
          "output_type": "execute_result",
          "data": {
            "text/plain": [
              "<matplotlib.axes._subplots.AxesSubplot at 0x7f8392c16630>"
            ]
          },
          "metadata": {
            "tags": []
          },
          "execution_count": 93
        },
        {
          "output_type": "display_data",
          "data": {
            "image/png": "[encoded data removed]",
            "text/plain": [
              "<Figure size 432x288 with 1 Axes>"
            ]
          },
          "metadata": {
            "tags": [],
            "needs_background": "light"
          }
        }
      ]
    },
    {
      "cell_type": "code",
      "metadata": {
        "colab": {
          "base_uri": "https://localhost:8080/",
          "height": 283
        },
        "id": "ovkEwJkcyDjv",
        "outputId": "33fe51c1-495f-40df-c614-1e73132c7b0f"
      },
      "source": [
        "df['BlueCars_returned_sum'].hist()"
      ],
      "execution_count": 94,
      "outputs": [
        {
          "output_type": "execute_result",
          "data": {
            "text/plain": [
              "<matplotlib.axes._subplots.AxesSubplot at 0x7f8392b65b38>"
            ]
          },
          "metadata": {
            "tags": []
          },
          "execution_count": 94
        },
        {
          "output_type": "display_data",
          "data": {
            "image/png": "[encoded data removed]",
            "text/plain": [
              "<Figure size 432x288 with 1 Axes>"
            ]
          },
          "metadata": {
            "tags": [],
            "needs_background": "light"
          }
        }
      ]
    },
    {
      "cell_type": "code",
      "metadata": {
        "colab": {
          "base_uri": "https://localhost:8080/",
          "height": 353
        },
        "id": "v2KXD8g7-52b",
        "outputId": "62917a91-9423-481d-f74b-9a20533ee103"
      },
      "source": [
        "sns.distplot(df['BlueCars_returned_sum'])"
      ],
      "execution_count": 95,
      "outputs": [
        {
          "output_type": "stream",
          "text": [
            "/usr/local/lib/python3.6/dist-packages/seaborn/distributions.py:2557: FutureWarning: `distplot` is a deprecated function and will be removed in a future version. Please adapt your code to use either `displot` (a figure-level function with similar flexibility) or `histplot` (an axes-level function for histograms).\n",
            "  warnings.warn(msg, FutureWarning)\n"
          ],
          "name": "stderr"
        },
        {
          "output_type": "execute_result",
          "data": {
            "text/plain": [
              "<matplotlib.axes._subplots.AxesSubplot at 0x7f8392967898>"
            ]
          },
          "metadata": {
            "tags": []
          },
          "execution_count": 95
        },
        {
          "output_type": "display_data",
          "data": {
            "image/png": "[encoded data removed]",
            "text/plain": [
              "<Figure size 432x288 with 1 Axes>"
            ]
          },
          "metadata": {
            "tags": [],
            "needs_background": "light"
          }
        }
      ]
    },
    {
      "cell_type": "code",
      "metadata": {
        "colab": {
          "base_uri": "https://localhost:8080/",
          "height": 283
        },
        "id": "sJuf90WA-55A",
        "outputId": "fbe9b640-b7a9-4a01-a7f6-090d775cee5c"
      },
      "source": [
        "df['Utilib_taken_sum'].hist()"
      ],
      "execution_count": 96,
      "outputs": [
        {
          "output_type": "execute_result",
          "data": {
            "text/plain": [
              "<matplotlib.axes._subplots.AxesSubplot at 0x7f8392e289e8>"
            ]
          },
          "metadata": {
            "tags": []
          },
          "execution_count": 96
        },
        {
          "output_type": "display_data",
          "data": {
            "image/png": "[encoded data removed]",
            "text/plain": [
              "<Figure size 432x288 with 1 Axes>"
            ]
          },
          "metadata": {
            "tags": [],
            "needs_background": "light"
          }
        }
      ]
    },
    {
      "cell_type": "code",
      "metadata": {
        "colab": {
          "base_uri": "https://localhost:8080/",
          "height": 354
        },
        "id": "6eS97fpR-57V",
        "outputId": "5594db4c-dcdb-4dbd-e031-d3b41cb05682"
      },
      "source": [
        "sns.distplot(df['Utilib_taken_sum'])"
      ],
      "execution_count": 97,
      "outputs": [
        {
          "output_type": "stream",
          "text": [
            "/usr/local/lib/python3.6/dist-packages/seaborn/distributions.py:2557: FutureWarning: `distplot` is a deprecated function and will be removed in a future version. Please adapt your code to use either `displot` (a figure-level function with similar flexibility) or `histplot` (an axes-level function for histograms).\n",
            "  warnings.warn(msg, FutureWarning)\n"
          ],
          "name": "stderr"
        },
        {
          "output_type": "execute_result",
          "data": {
            "text/plain": [
              "<matplotlib.axes._subplots.AxesSubplot at 0x7f839288f320>"
            ]
          },
          "metadata": {
            "tags": []
          },
          "execution_count": 97
        },
        {
          "output_type": "display_data",
          "data": {
            "image/png": "[encoded data removed]",
            "text/plain": [
              "<Figure size 432x288 with 1 Axes>"
            ]
          },
          "metadata": {
            "tags": [],
            "needs_background": "light"
          }
        }
      ]
    },
    {
      "cell_type": "code",
      "metadata": {
        "colab": {
          "base_uri": "https://localhost:8080/",
          "height": 283
        },
        "id": "Iu0_z7Yj-59n",
        "outputId": "967d38c4-b704-4ae2-f4d6-e0e5a89918a0"
      },
      "source": [
        "df['Utilib_returned_sum'].hist()"
      ],
      "execution_count": 98,
      "outputs": [
        {
          "output_type": "execute_result",
          "data": {
            "text/plain": [
              "<matplotlib.axes._subplots.AxesSubplot at 0x7f839284aa20>"
            ]
          },
          "metadata": {
            "tags": []
          },
          "execution_count": 98
        },
        {
          "output_type": "display_data",
          "data": {
            "image/png": "[encoded data removed]",
            "text/plain": [
              "<Figure size 432x288 with 1 Axes>"
            ]
          },
          "metadata": {
            "tags": [],
            "needs_background": "light"
          }
        }
      ]
    },
    {
      "cell_type": "code",
      "metadata": {
        "colab": {
          "base_uri": "https://localhost:8080/",
          "height": 353
        },
        "id": "9FSIm_ab-6A5",
        "outputId": "21bfe9fa-961e-4aba-f8be-348e9be8fbd2"
      },
      "source": [
        "sns.distplot(df['Utilib_returned_sum'])"
      ],
      "execution_count": 99,
      "outputs": [
        {
          "output_type": "stream",
          "text": [
            "/usr/local/lib/python3.6/dist-packages/seaborn/distributions.py:2557: FutureWarning: `distplot` is a deprecated function and will be removed in a future version. Please adapt your code to use either `displot` (a figure-level function with similar flexibility) or `histplot` (an axes-level function for histograms).\n",
            "  warnings.warn(msg, FutureWarning)\n"
          ],
          "name": "stderr"
        },
        {
          "output_type": "execute_result",
          "data": {
            "text/plain": [
              "<matplotlib.axes._subplots.AxesSubplot at 0x7f83926dbbe0>"
            ]
          },
          "metadata": {
            "tags": []
          },
          "execution_count": 99
        },
        {
          "output_type": "display_data",
          "data": {
            "image/png": "[encoded data removed]",
            "text/plain": [
              "<Figure size 432x288 with 1 Axes>"
            ]
          },
          "metadata": {
            "tags": [],
            "needs_background": "light"
          }
        }
      ]
    },
    {
      "cell_type": "code",
      "metadata": {
        "colab": {
          "base_uri": "https://localhost:8080/",
          "height": 283
        },
        "id": "olEMixaJ_pF0",
        "outputId": "80f38cd1-ac7f-4287-f9d3-cdb8f0edbe68"
      },
      "source": [
        "df['Utilib_14_taken_sum'].hist()"
      ],
      "execution_count": 100,
      "outputs": [
        {
          "output_type": "execute_result",
          "data": {
            "text/plain": [
              "<matplotlib.axes._subplots.AxesSubplot at 0x7f83927097b8>"
            ]
          },
          "metadata": {
            "tags": []
          },
          "execution_count": 100
        },
        {
          "output_type": "display_data",
          "data": {
            "image/png": "[encoded data removed]",
            "text/plain": [
              "<Figure size 432x288 with 1 Axes>"
            ]
          },
          "metadata": {
            "tags": [],
            "needs_background": "light"
          }
        }
      ]
    },
    {
      "cell_type": "code",
      "metadata": {
        "colab": {
          "base_uri": "https://localhost:8080/",
          "height": 353
        },
        "id": "LRV9I6Pk_pJJ",
        "outputId": "a1a7df9f-50d7-44d3-a427-992102b77571"
      },
      "source": [
        "sns.distplot(df['Utilib_14_taken_sum'])"
      ],
      "execution_count": 101,
      "outputs": [
        {
          "output_type": "stream",
          "text": [
            "/usr/local/lib/python3.6/dist-packages/seaborn/distributions.py:2557: FutureWarning: `distplot` is a deprecated function and will be removed in a future version. Please adapt your code to use either `displot` (a figure-level function with similar flexibility) or `histplot` (an axes-level function for histograms).\n",
            "  warnings.warn(msg, FutureWarning)\n"
          ],
          "name": "stderr"
        },
        {
          "output_type": "execute_result",
          "data": {
            "text/plain": [
              "<matplotlib.axes._subplots.AxesSubplot at 0x7f839257d5c0>"
            ]
          },
          "metadata": {
            "tags": []
          },
          "execution_count": 101
        },
        {
          "output_type": "display_data",
          "data": {
            "image/png": "[encoded data removed]",
            "text/plain": [
              "<Figure size 432x288 with 1 Axes>"
            ]
          },
          "metadata": {
            "tags": [],
            "needs_background": "light"
          }
        }
      ]
    },
    {
      "cell_type": "code",
      "metadata": {
        "colab": {
          "base_uri": "https://localhost:8080/",
          "height": 283
        },
        "id": "6-_3Hksq_pMv",
        "outputId": "045da902-6f66-46d4-c3aa-3a25a1b09122"
      },
      "source": [
        "df['Utilib_14_returned_sum'].hist()"
      ],
      "execution_count": 102,
      "outputs": [
        {
          "output_type": "execute_result",
          "data": {
            "text/plain": [
              "<matplotlib.axes._subplots.AxesSubplot at 0x7f839258c588>"
            ]
          },
          "metadata": {
            "tags": []
          },
          "execution_count": 102
        },
        {
          "output_type": "display_data",
          "data": {
            "image/png": "[encoded data removed]",
            "text/plain": [
              "<Figure size 432x288 with 1 Axes>"
            ]
          },
          "metadata": {
            "tags": [],
            "needs_background": "light"
          }
        }
      ]
    },
    {
      "cell_type": "code",
      "metadata": {
        "colab": {
          "base_uri": "https://localhost:8080/",
          "height": 353
        },
        "id": "Kx6GWkTb_pQA",
        "outputId": "a7d77379-ef3d-4bd4-fc40-8a9f5e5970e4"
      },
      "source": [
        "sns.distplot(df['Utilib_14_returned_sum'])"
      ],
      "execution_count": 103,
      "outputs": [
        {
          "output_type": "stream",
          "text": [
            "/usr/local/lib/python3.6/dist-packages/seaborn/distributions.py:2557: FutureWarning: `distplot` is a deprecated function and will be removed in a future version. Please adapt your code to use either `displot` (a figure-level function with similar flexibility) or `histplot` (an axes-level function for histograms).\n",
            "  warnings.warn(msg, FutureWarning)\n"
          ],
          "name": "stderr"
        },
        {
          "output_type": "execute_result",
          "data": {
            "text/plain": [
              "<matplotlib.axes._subplots.AxesSubplot at 0x7f8392443e80>"
            ]
          },
          "metadata": {
            "tags": []
          },
          "execution_count": 103
        },
        {
          "output_type": "display_data",
          "data": {
            "image/png": "[encoded data removed]",
            "text/plain": [
              "<Figure size 432x288 with 1 Axes>"
            ]
          },
          "metadata": {
            "tags": [],
            "needs_background": "light"
          }
        }
      ]
    },
    {
      "cell_type": "markdown",
      "metadata": {
        "id": "ibnU2BH-yEiM"
      },
      "source": [
        "### Bivariate analysis "
      ]
    },
    {
      "cell_type": "code",
      "metadata": {
        "colab": {
          "base_uri": "https://localhost:8080/",
          "height": 295
        },
        "id": "IVHPCul_yHGN",
        "outputId": "de6ce8a1-5709-4efd-ed6e-7c362ddb62ef"
      },
      "source": [
        "plt.scatter(df['BlueCars_taken_sum'] ,df[\"Utilib_taken_sum\"])\r\n",
        "plt.title('Is there a correlation between BlueCars and Utilib ')\r\n",
        "plt.xlabel('BlueCars')\r\n",
        "plt.ylabel('Utilib')\r\n",
        "plt.show()"
      ],
      "execution_count": 108,
      "outputs": [
        {
          "output_type": "display_data",
          "data": {
            "image/png": "[encoded data removed]",
            "text/plain": [
              "<Figure size 432x288 with 1 Axes>"
            ]
          },
          "metadata": {
            "tags": [],
            "needs_background": "light"
          }
        }
      ]
    },
    {
      "cell_type": "code",
      "metadata": {
        "colab": {
          "base_uri": "https://localhost:8080/",
          "height": 295
        },
        "id": "LDqKk-T4yHOq",
        "outputId": "30dc6a6c-0e2d-4bf2-c698-276ca4c8a044"
      },
      "source": [
        "plt.scatter(df['BlueCars_taken_sum'] ,df[\"Utilib_14_taken_sum\"])\r\n",
        "plt.title('Is there a correlation between BlueCars and Utilib_14 ')\r\n",
        "plt.xlabel('BlueCars')\r\n",
        "plt.ylabel('Utilib_14')\r\n",
        "plt.show()"
      ],
      "execution_count": 109,
      "outputs": [
        {
          "output_type": "display_data",
          "data": {
            "image/png": "[encoded data removed]",
            "text/plain": [
              "<Figure size 432x288 with 1 Axes>"
            ]
          },
          "metadata": {
            "tags": [],
            "needs_background": "light"
          }
        }
      ]
    },
    {
      "cell_type": "code",
      "metadata": {
        "colab": {
          "base_uri": "https://localhost:8080/",
          "height": 295
        },
        "id": "PP_PaHqpyHXQ",
        "outputId": "e0e1f37a-4493-43cd-9160-a7164816691f"
      },
      "source": [
        "plt.scatter(df['Utilib_taken_sum'] ,df[\"Utilib_14_taken_sum\"])\r\n",
        "plt.title('Is there a correlation between BlueCars and Utilib_14 ')\r\n",
        "plt.xlabel('BlueCars')\r\n",
        "plt.ylabel('Utilib_14')\r\n",
        "plt.show()"
      ],
      "execution_count": 110,
      "outputs": [
        {
          "output_type": "display_data",
          "data": {
            "image/png": "[encoded data removed]",
            "text/plain": [
              "<Figure size 432x288 with 1 Axes>"
            ]
          },
          "metadata": {
            "tags": [],
            "needs_background": "light"
          }
        }
      ]
    },
    {
      "cell_type": "markdown",
      "metadata": {
        "id": "bJ8gYqdtyR9M"
      },
      "source": [
        "## 6. Implementing the soloution "
      ]
    },
    {
      "cell_type": "markdown",
      "metadata": {
        "id": "b4wM7yEKGeXI"
      },
      "source": [
        "We are going to test if the proportion of bluecars is decreasing, however the data is too large so we need to make a sample. "
      ]
    },
    {
      "cell_type": "code",
      "metadata": {
        "id": "7wXN-LkMLsFV"
      },
      "source": [
        "from sklearn.cluster import KMeans"
      ],
      "execution_count": 214,
      "outputs": []
    },
    {
      "cell_type": "code",
      "metadata": {
        "id": "seCOBtPlMk51"
      },
      "source": [
        "x = df.iloc[:,5:]"
      ],
      "execution_count": 215,
      "outputs": []
    },
    {
      "cell_type": "code",
      "metadata": {
        "colab": {
          "base_uri": "https://localhost:8080/"
        },
        "id": "wd2fcl9UMUHb",
        "outputId": "d14f9dd9-054b-4cec-e011-d4e3c3b3dbf8"
      },
      "source": [
        "kmeans = KMeans(20)\r\n",
        "\r\n",
        "kmeans.fit(x)"
      ],
      "execution_count": 216,
      "outputs": [
        {
          "output_type": "execute_result",
          "data": {
            "text/plain": [
              "KMeans(algorithm='auto', copy_x=True, init='k-means++', max_iter=300,\n",
              "       n_clusters=20, n_init=10, n_jobs=None, precompute_distances='auto',\n",
              "       random_state=None, tol=0.0001, verbose=0)"
            ]
          },
          "metadata": {
            "tags": []
          },
          "execution_count": 216
        }
      ]
    },
    {
      "cell_type": "code",
      "metadata": {
        "colab": {
          "base_uri": "https://localhost:8080/"
        },
        "id": "XtUx-g3eNMZF",
        "outputId": "5a09f460-b049-45bd-efae-61b7d22e4972"
      },
      "source": [
        "identified_clusters = kmeans.fit_predict(x)\r\n",
        "\r\n",
        "identified_clusters"
      ],
      "execution_count": 217,
      "outputs": [
        {
          "output_type": "execute_result",
          "data": {
            "text/plain": [
              "array([ 6,  6, 13, ..., 12,  0,  0], dtype=int32)"
            ]
          },
          "metadata": {
            "tags": []
          },
          "execution_count": 217
        }
      ]
    },
    {
      "cell_type": "code",
      "metadata": {
        "colab": {
          "base_uri": "https://localhost:8080/",
          "height": 322
        },
        "id": "AuzUtJbKNaLc",
        "outputId": "5bad27a1-3bb9-4f5b-b46f-5e8f5e371db1"
      },
      "source": [
        "data_with_clusters = df.copy()\r\n",
        "\r\n",
        "data_with_clusters['Cluster'] = identified_clusters\r\n",
        "\r\n",
        "data_with_clusters.head()"
      ],
      "execution_count": 224,
      "outputs": [
        {
          "output_type": "execute_result",
          "data": {
            "text/html": [
              "<div>\n",
              "<style scoped>\n",
              "    .dataframe tbody tr th:only-of-type {\n",
              "        vertical-align: middle;\n",
              "    }\n",
              "\n",
              "    .dataframe tbody tr th {\n",
              "        vertical-align: top;\n",
              "    }\n",
              "\n",
              "    .dataframe thead th {\n",
              "        text-align: right;\n",
              "    }\n",
              "</style>\n",
              "<table border=\"1\" class=\"dataframe\">\n",
              "  <thead>\n",
              "    <tr style=\"text-align: right;\">\n",
              "      <th></th>\n",
              "      <th>Postal code</th>\n",
              "      <th>date</th>\n",
              "      <th>n_daily_data_points</th>\n",
              "      <th>dayOfWeek</th>\n",
              "      <th>day_type</th>\n",
              "      <th>BlueCars_taken_sum</th>\n",
              "      <th>BlueCars_returned_sum</th>\n",
              "      <th>Utilib_taken_sum</th>\n",
              "      <th>Utilib_returned_sum</th>\n",
              "      <th>Utilib_14_taken_sum</th>\n",
              "      <th>Utilib_14_returned_sum</th>\n",
              "      <th>Slots_freed_sum</th>\n",
              "      <th>Slots_taken_sum</th>\n",
              "      <th>Cluster</th>\n",
              "    </tr>\n",
              "  </thead>\n",
              "  <tbody>\n",
              "    <tr>\n",
              "      <th>0</th>\n",
              "      <td>75001</td>\n",
              "      <td>2018-01-01</td>\n",
              "      <td>1440</td>\n",
              "      <td>0</td>\n",
              "      <td>weekday</td>\n",
              "      <td>110</td>\n",
              "      <td>103</td>\n",
              "      <td>3</td>\n",
              "      <td>2</td>\n",
              "      <td>10</td>\n",
              "      <td>9</td>\n",
              "      <td>22</td>\n",
              "      <td>20</td>\n",
              "      <td>6</td>\n",
              "    </tr>\n",
              "    <tr>\n",
              "      <th>1</th>\n",
              "      <td>75001</td>\n",
              "      <td>2018-01-02</td>\n",
              "      <td>1438</td>\n",
              "      <td>1</td>\n",
              "      <td>weekday</td>\n",
              "      <td>98</td>\n",
              "      <td>94</td>\n",
              "      <td>1</td>\n",
              "      <td>1</td>\n",
              "      <td>8</td>\n",
              "      <td>8</td>\n",
              "      <td>23</td>\n",
              "      <td>22</td>\n",
              "      <td>6</td>\n",
              "    </tr>\n",
              "    <tr>\n",
              "      <th>2</th>\n",
              "      <td>75001</td>\n",
              "      <td>2018-01-03</td>\n",
              "      <td>1439</td>\n",
              "      <td>2</td>\n",
              "      <td>weekday</td>\n",
              "      <td>138</td>\n",
              "      <td>139</td>\n",
              "      <td>0</td>\n",
              "      <td>0</td>\n",
              "      <td>2</td>\n",
              "      <td>2</td>\n",
              "      <td>27</td>\n",
              "      <td>27</td>\n",
              "      <td>13</td>\n",
              "    </tr>\n",
              "    <tr>\n",
              "      <th>3</th>\n",
              "      <td>75001</td>\n",
              "      <td>2018-01-04</td>\n",
              "      <td>1320</td>\n",
              "      <td>3</td>\n",
              "      <td>weekday</td>\n",
              "      <td>104</td>\n",
              "      <td>104</td>\n",
              "      <td>2</td>\n",
              "      <td>2</td>\n",
              "      <td>9</td>\n",
              "      <td>8</td>\n",
              "      <td>25</td>\n",
              "      <td>21</td>\n",
              "      <td>6</td>\n",
              "    </tr>\n",
              "    <tr>\n",
              "      <th>4</th>\n",
              "      <td>75001</td>\n",
              "      <td>2018-01-05</td>\n",
              "      <td>1440</td>\n",
              "      <td>4</td>\n",
              "      <td>weekday</td>\n",
              "      <td>114</td>\n",
              "      <td>117</td>\n",
              "      <td>3</td>\n",
              "      <td>3</td>\n",
              "      <td>6</td>\n",
              "      <td>6</td>\n",
              "      <td>18</td>\n",
              "      <td>20</td>\n",
              "      <td>6</td>\n",
              "    </tr>\n",
              "  </tbody>\n",
              "</table>\n",
              "</div>"
            ],
            "text/plain": [
              "   Postal code       date  ...  Slots_taken_sum  Cluster\n",
              "0        75001 2018-01-01  ...               20        6\n",
              "1        75001 2018-01-02  ...               22        6\n",
              "2        75001 2018-01-03  ...               27       13\n",
              "3        75001 2018-01-04  ...               21        6\n",
              "4        75001 2018-01-05  ...               20        6\n",
              "\n",
              "[5 rows x 14 columns]"
            ]
          },
          "metadata": {
            "tags": []
          },
          "execution_count": 224
        }
      ]
    },
    {
      "cell_type": "code",
      "metadata": {
        "colab": {
          "base_uri": "https://localhost:8080/"
        },
        "id": "ocsww3rbNq9_",
        "outputId": "86c81b56-8ca4-42ca-abe0-2e64238cb4e1"
      },
      "source": [
        "working = data_with_clusters[data_with_clusters['Cluster']==3]\r\n",
        "num = len(working)"
      ],
      "execution_count": 219,
      "outputs": [
        {
          "output_type": "execute_result",
          "data": {
            "text/plain": [
              "144"
            ]
          },
          "metadata": {
            "tags": []
          },
          "execution_count": 219
        }
      ]
    },
    {
      "cell_type": "markdown",
      "metadata": {
        "id": "XvxcVobo7iWO"
      },
      "source": [
        "Calculating the mean and standard deviations that will be used in the hypothesis testing "
      ]
    },
    {
      "cell_type": "code",
      "metadata": {
        "id": "_0QuHMq-PRQn"
      },
      "source": [
        "sample_mean = working['BlueCars_taken_sum'].mean()"
      ],
      "execution_count": 220,
      "outputs": []
    },
    {
      "cell_type": "code",
      "metadata": {
        "colab": {
          "base_uri": "https://localhost:8080/"
        },
        "id": "OeYQoZf5PiAa",
        "outputId": "00bb0266-b59c-4b5b-d152-3b78f00d57d6"
      },
      "source": [
        "#Calculating the standard deviation of the sample\r\n",
        "working['BlueCars_taken_sum'].std()"
      ],
      "execution_count": 221,
      "outputs": [
        {
          "output_type": "execute_result",
          "data": {
            "text/plain": [
              "39.3236074805403"
            ]
          },
          "metadata": {
            "tags": []
          },
          "execution_count": 221
        }
      ]
    },
    {
      "cell_type": "code",
      "metadata": {
        "id": "Frs-poPDTl69"
      },
      "source": [
        "#Dropping the date column for analysis matters \r\n",
        "working = working.drop('date',axis=1)"
      ],
      "execution_count": 222,
      "outputs": []
    },
    {
      "cell_type": "code",
      "metadata": {
        "colab": {
          "base_uri": "https://localhost:8080/"
        },
        "id": "BoeoydpwYQW4",
        "outputId": "69c0cc3b-3330-4969-cb3c-96d80313760c"
      },
      "source": [
        "# Getting the mean of the population\r\n",
        "df['BlueCars_taken_sum'].mean()"
      ],
      "execution_count": 223,
      "outputs": [
        {
          "output_type": "execute_result",
          "data": {
            "text/plain": [
              "125.92695057506994"
            ]
          },
          "metadata": {
            "tags": []
          },
          "execution_count": 223
        }
      ]
    },
    {
      "cell_type": "code",
      "metadata": {
        "colab": {
          "base_uri": "https://localhost:8080/"
        },
        "id": "9zRop3kldJsa",
        "outputId": "5d799b83-8715-4963-acdd-7aad76195a5a"
      },
      "source": [
        "#Calculating the variance of the sample \r\n",
        "working['BlueCars_taken_sum'].var()"
      ],
      "execution_count": 163,
      "outputs": [
        {
          "output_type": "execute_result",
          "data": {
            "text/plain": [
              "162.2654934063083"
            ]
          },
          "metadata": {
            "tags": []
          },
          "execution_count": 163
        }
      ]
    },
    {
      "cell_type": "code",
      "metadata": {
        "colab": {
          "base_uri": "https://localhost:8080/"
        },
        "id": "7siY1OJTcL5N",
        "outputId": "c36e7fb4-ced9-4211-f754-610c3a986953"
      },
      "source": [
        "# X - B(874,0.14)\r\n",
        "# Ho : p = 0.14\r\n",
        "# H1 : p < 0.14\r\n",
        "#P(X<120)I chose a random number to check if the claim is true \r\n",
        "# X - N(125.67,162.27)\r\n",
        "W = (119.5 -125.67) / 12.738347357734767\r\n",
        "W "
      ],
      "execution_count": 168,
      "outputs": [
        {
          "output_type": "execute_result",
          "data": {
            "text/plain": [
              "-0.4451126854031939"
            ]
          },
          "metadata": {
            "tags": []
          },
          "execution_count": 168
        }
      ]
    },
    {
      "cell_type": "code",
      "metadata": {
        "colab": {
          "base_uri": "https://localhost:8080/"
        },
        "id": "11QrB5zkfYC0",
        "outputId": "1d4cb881-3db1-4565-8c71-2fa048e28f13"
      },
      "source": [
        "Sig_level = 1 - 0.6700\r\n",
        "Sig_level"
      ],
      "execution_count": 201,
      "outputs": [
        {
          "output_type": "execute_result",
          "data": {
            "text/plain": [
              "0.32999999999999996"
            ]
          },
          "metadata": {
            "tags": []
          },
          "execution_count": 201
        }
      ]
    },
    {
      "cell_type": "markdown",
      "metadata": {
        "id": "isMo3-myfqaR"
      },
      "source": [
        "Since the p_value is larger than 0.05 we reject the null hypothesis and show that it is true the number of blue cars has decreased"
      ]
    },
    {
      "cell_type": "markdown",
      "metadata": {
        "id": "i8E2u0cgyXjf"
      },
      "source": [
        "## 7. Challenging the solution "
      ]
    },
    {
      "cell_type": "markdown",
      "metadata": {
        "id": "P2Lrxs6ChXVJ"
      },
      "source": [
        "Standar error calculation "
      ]
    },
    {
      "cell_type": "code",
      "metadata": {
        "colab": {
          "base_uri": "https://localhost:8080/"
        },
        "id": "YaDCmODLycOD",
        "outputId": "09011633-79a6-4f5e-e02e-b53cb7dd3180"
      },
      "source": [
        "std_error = working['BlueCars_taken_sum'].std() / np.sqrt(874)\r\n",
        "std_error"
      ],
      "execution_count": 190,
      "outputs": [
        {
          "output_type": "execute_result",
          "data": {
            "text/plain": [
              "0.43088102682173457"
            ]
          },
          "metadata": {
            "tags": []
          },
          "execution_count": 190
        }
      ]
    },
    {
      "cell_type": "markdown",
      "metadata": {
        "id": "gQn2Qv6A1CUG"
      },
      "source": [
        "A low standard error means that there is 67 percent chance that our statistic values could be wrong."
      ]
    },
    {
      "cell_type": "markdown",
      "metadata": {
        "id": "rLwPZ4iP043m"
      },
      "source": [
        "Point estimator"
      ]
    },
    {
      "cell_type": "code",
      "metadata": {
        "id": "_4WbfQ4Iza01"
      },
      "source": [
        "pop =df['BlueCars_taken_sum'].mean()"
      ],
      "execution_count": 197,
      "outputs": []
    },
    {
      "cell_type": "code",
      "metadata": {
        "id": "FGKP81-20bhq"
      },
      "source": [
        "sam = working['BlueCars_taken_sum'].mean()"
      ],
      "execution_count": 198,
      "outputs": []
    },
    {
      "cell_type": "code",
      "metadata": {
        "colab": {
          "base_uri": "https://localhost:8080/"
        },
        "id": "UAklIGRx0k_r",
        "outputId": "8b4a500e-f78b-48bd-9050-bbcd8d5dd512"
      },
      "source": [
        "pop - sam"
      ],
      "execution_count": 199,
      "outputs": [
        {
          "output_type": "execute_result",
          "data": {
            "text/plain": [
              "0.2587583553902988"
            ]
          },
          "metadata": {
            "tags": []
          },
          "execution_count": 199
        }
      ]
    },
    {
      "cell_type": "markdown",
      "metadata": {
        "id": "o2SndxYepq3V"
      },
      "source": [
        "We can see that our sample our estimator over estimates the true mean by 0.259"
      ]
    },
    {
      "cell_type": "markdown",
      "metadata": {
        "id": "dOXKEQXq1z2o"
      },
      "source": [
        "Interval estimator"
      ]
    },
    {
      "cell_type": "code",
      "metadata": {
        "colab": {
          "base_uri": "https://localhost:8080/"
        },
        "id": "o15Jnw5N1Zxb",
        "outputId": "5ebf9081-06f3-47f2-8baa-c8d4774bd22d"
      },
      "source": [
        "stats.norm.interval(0.95, loc=sam, scale=std_error)"
      ],
      "execution_count": 200,
      "outputs": [
        {
          "output_type": "execute_result",
          "data": {
            "text/plain": [
              "(124.82368092548741, 126.51270351387187)"
            ]
          },
          "metadata": {
            "tags": []
          },
          "execution_count": 200
        }
      ]
    }
  ]
}